{
 "cells": [
  {
   "cell_type": "code",
   "execution_count": null,
   "id": "b739edd9-a66b-4ff1-9d6f-ad06b69c4e5d",
   "metadata": {},
   "outputs": [],
   "source": [
    "continuation with strings :"
   ]
  },
  {
   "cell_type": "code",
   "execution_count": null,
   "id": "53ec66d1-1d2d-4158-bf77-e3d345166edd",
   "metadata": {},
   "outputs": [],
   "source": []
  },
  {
   "cell_type": "code",
   "execution_count": null,
   "id": "6758724f-f570-4a9c-adf5-5760458251e5",
   "metadata": {},
   "outputs": [],
   "source": [
    "understanding the concept of f strings :"
   ]
  },
  {
   "cell_type": "code",
   "execution_count": null,
   "id": "d33bf926-cdb8-43a9-9f19-c943a7d6f1c8",
   "metadata": {},
   "outputs": [],
   "source": [
    "# general syntex of f strings :"
   ]
  },
  {
   "cell_type": "code",
   "execution_count": null,
   "id": "edf7ddde-3a30-4644-aae3-9098bbfa5f8e",
   "metadata": {},
   "outputs": [],
   "source": [
    "f\"custom message {placeholder -1} {placeholder-2}.................{placeholder..N}\""
   ]
  },
  {
   "cell_type": "code",
   "execution_count": null,
   "id": "0c48c71b-c75f-44cb-921a-7dfad4f9fcfb",
   "metadata": {},
   "outputs": [],
   "source": []
  },
  {
   "cell_type": "code",
   "execution_count": 4,
   "id": "cc4490b8-e7fb-4a71-83e8-536d11107225",
   "metadata": {},
   "outputs": [],
   "source": [
    "firstname = \"pradeep\"\n",
    "lastname = \"verma\""
   ]
  },
  {
   "cell_type": "code",
   "execution_count": null,
   "id": "220b2956-844d-4b5f-bae8-9009523e103c",
   "metadata": {},
   "outputs": [],
   "source": [
    "# req : i want to get the full name................?"
   ]
  },
  {
   "cell_type": "code",
   "execution_count": 5,
   "id": "5a67d7a2-1aae-4530-b9a5-0eb9737a51c2",
   "metadata": {},
   "outputs": [
    {
     "name": "stdout",
     "output_type": "stream",
     "text": [
      "pradeep verma\n"
     ]
    }
   ],
   "source": [
    "fullname = f\"{firstname} {lastname}\"\n",
    "print(fullname)"
   ]
  },
  {
   "cell_type": "code",
   "execution_count": null,
   "id": "b6893985-a30a-4a85-ac0c-006be6eb2853",
   "metadata": {},
   "outputs": [],
   "source": [
    "# title for full name"
   ]
  },
  {
   "cell_type": "code",
   "execution_count": 6,
   "id": "1a5eda0b-e64b-4e9e-97f6-98e36a9803c6",
   "metadata": {},
   "outputs": [
    {
     "name": "stdout",
     "output_type": "stream",
     "text": [
      "Pradeep Verma\n"
     ]
    }
   ],
   "source": [
    "print(fullname.title())"
   ]
  },
  {
   "cell_type": "code",
   "execution_count": 7,
   "id": "106f0de8-c9df-427c-be35-7a464a95814c",
   "metadata": {},
   "outputs": [
    {
     "name": "stdout",
     "output_type": "stream",
     "text": [
      "keep up the good work, Pradeep Verma\n"
     ]
    }
   ],
   "source": [
    "message = f\"keep up the good work, {fullname.title()}\"\n",
    "print(message)"
   ]
  },
  {
   "cell_type": "code",
   "execution_count": null,
   "id": "efdc8b10-9a37-49f5-83f6-223f83b75f88",
   "metadata": {},
   "outputs": [],
   "source": [
    "# adding white space to strings :"
   ]
  },
  {
   "cell_type": "code",
   "execution_count": 8,
   "id": "d6dd1152-8eac-404d-8048-99c3c6a2cb00",
   "metadata": {},
   "outputs": [
    {
     "name": "stdout",
     "output_type": "stream",
     "text": [
      "fav_program_language:pythonjavac++swiftcc#\n"
     ]
    }
   ],
   "source": [
    "print(\"fav_program_language:pythonjavac++swiftcc#\")"
   ]
  },
  {
   "cell_type": "code",
   "execution_count": 9,
   "id": "a409874e-872e-4ac0-ab42-e94a7222c0e1",
   "metadata": {},
   "outputs": [
    {
     "name": "stdout",
     "output_type": "stream",
     "text": [
      "fav_program_language:\n",
      "python\n",
      "java\n",
      "c++\n",
      "swift\n",
      "c#\n"
     ]
    }
   ],
   "source": [
    "print(\"fav_program_language:\\npython\\njava\\nc++\\nswift\\nc#\")"
   ]
  },
  {
   "cell_type": "code",
   "execution_count": null,
   "id": "09a4d6bf-aa1f-450f-a384-49ace9a9a150",
   "metadata": {},
   "outputs": [],
   "source": [
    "# \\n use for new line dlimiter"
   ]
  },
  {
   "cell_type": "code",
   "execution_count": 11,
   "id": "f94714bb-a02a-43c9-8c88-1a30e4fcb21f",
   "metadata": {},
   "outputs": [
    {
     "name": "stdout",
     "output_type": "stream",
     "text": [
      "fav_program_language:\n",
      "\tpython\n",
      "\tjava\n",
      "\tc++\n",
      "\tswift\n",
      "\tc#\n"
     ]
    }
   ],
   "source": [
    "print(\"fav_program_language:\\n\\tpython\\n\\tjava\\n\\tc++\\n\\tswift\\n\\tc#\")"
   ]
  },
  {
   "cell_type": "code",
   "execution_count": 1,
   "id": "6f6afce3-0d7c-4de7-9321-f3a00cbce74d",
   "metadata": {},
   "outputs": [
    {
     "name": "stdout",
     "output_type": "stream",
     "text": [
      "The Zen of Python, by Tim Peters\n",
      "\n",
      "Beautiful is better than ugly.\n",
      "Explicit is better than implicit.\n",
      "Simple is better than complex.\n",
      "Complex is better than complicated.\n",
      "Flat is better than nested.\n",
      "Sparse is better than dense.\n",
      "Readability counts.\n",
      "Special cases aren't special enough to break the rules.\n",
      "Although practicality beats purity.\n",
      "Errors should never pass silently.\n",
      "Unless explicitly silenced.\n",
      "In the face of ambiguity, refuse the temptation to guess.\n",
      "There should be one-- and preferably only one --obvious way to do it.\n",
      "Although that way may not be obvious at first unless you're Dutch.\n",
      "Now is better than never.\n",
      "Although never is often better than *right* now.\n",
      "If the implementation is hard to explain, it's a bad idea.\n",
      "If the implementation is easy to explain, it may be a good idea.\n",
      "Namespaces are one honking great idea -- let's do more of those!\n"
     ]
    }
   ],
   "source": [
    "import this"
   ]
  },
  {
   "cell_type": "code",
   "execution_count": null,
   "id": "892f8e4c-62eb-4284-bf7e-eb0ed6fcd966",
   "metadata": {},
   "outputs": [],
   "source": []
  },
  {
   "cell_type": "code",
   "execution_count": null,
   "id": "10d7eade-00e7-42c7-b821-4e69dd2e63f6",
   "metadata": {},
   "outputs": [],
   "source": [
    "# \\t use for tab delimiter"
   ]
  },
  {
   "cell_type": "code",
   "execution_count": null,
   "id": "f23226bb-5944-4498-b66a-bc288a8bcf72",
   "metadata": {},
   "outputs": [],
   "source": [
    "removing whitespaces from the strings :"
   ]
  },
  {
   "cell_type": "code",
   "execution_count": 12,
   "id": "29bb3162-4f59-43a7-b294-14e0a01a11e5",
   "metadata": {},
   "outputs": [
    {
     "name": "stdout",
     "output_type": "stream",
     "text": [
      "     python\n"
     ]
    }
   ],
   "source": [
    "name = \"     python\" # gap is on the left side...\n",
    "print(name)"
   ]
  },
  {
   "cell_type": "code",
   "execution_count": 13,
   "id": "7586da3f-a32f-40e3-aa86-bcbc88d6d520",
   "metadata": {},
   "outputs": [
    {
     "name": "stdout",
     "output_type": "stream",
     "text": [
      "python                  \n"
     ]
    }
   ],
   "source": [
    "name2 = \"python                  \" # gap is on right side...\n",
    "print(name2)"
   ]
  },
  {
   "cell_type": "code",
   "execution_count": 14,
   "id": "74cf2565-5d94-41e4-b893-f12c3132a778",
   "metadata": {},
   "outputs": [
    {
     "name": "stdout",
     "output_type": "stream",
     "text": [
      "python\n"
     ]
    }
   ],
   "source": [
    "name3 = \"python\" # no gap\n",
    "print(name3)"
   ]
  },
  {
   "cell_type": "code",
   "execution_count": 16,
   "id": "35ad7fdc-4791-4ccb-b329-a4ee52152aee",
   "metadata": {},
   "outputs": [
    {
     "data": {
      "text/plain": [
       "'python'"
      ]
     },
     "execution_count": 16,
     "metadata": {},
     "output_type": "execute_result"
    }
   ],
   "source": [
    "name.lstrip() # removing the left whitespace"
   ]
  },
  {
   "cell_type": "code",
   "execution_count": 18,
   "id": "4c2c594c-04c7-4164-9b0f-5eee1b67dd35",
   "metadata": {},
   "outputs": [
    {
     "data": {
      "text/plain": [
       "'python'"
      ]
     },
     "execution_count": 18,
     "metadata": {},
     "output_type": "execute_result"
    }
   ],
   "source": [
    "name2.rstrip() # removing the right whitespace"
   ]
  },
  {
   "cell_type": "code",
   "execution_count": 19,
   "id": "8f710f6b-5861-46e7-8832-3a81fd095413",
   "metadata": {},
   "outputs": [
    {
     "name": "stdout",
     "output_type": "stream",
     "text": [
      "  python   \n"
     ]
    }
   ],
   "source": [
    "name4 = \"  python   \" # whitespace on both side right and left\n",
    "print(name4)"
   ]
  },
  {
   "cell_type": "code",
   "execution_count": 21,
   "id": "71a56734-94c6-4399-b425-e7ddddd15e99",
   "metadata": {},
   "outputs": [
    {
     "data": {
      "text/plain": [
       "'python'"
      ]
     },
     "execution_count": 21,
     "metadata": {},
     "output_type": "execute_result"
    }
   ],
   "source": [
    "name4.strip()  # removed both side space right and left"
   ]
  },
  {
   "cell_type": "code",
   "execution_count": null,
   "id": "88120d29-bf77-47fc-9c7b-9bfc2fc8f81e",
   "metadata": {},
   "outputs": [],
   "source": []
  },
  {
   "cell_type": "code",
   "execution_count": null,
   "id": "30f1a39f-6352-41f1-999c-118dd8274a1b",
   "metadata": {},
   "outputs": [],
   "source": []
  }
 ],
 "metadata": {
  "kernelspec": {
   "display_name": "Python 3",
   "language": "python",
   "name": "python3"
  },
  "language_info": {
   "codemirror_mode": {
    "name": "ipython",
    "version": 3
   },
   "file_extension": ".py",
   "mimetype": "text/x-python",
   "name": "python",
   "nbconvert_exporter": "python",
   "pygments_lexer": "ipython3",
   "version": "3.11.7"
  }
 },
 "nbformat": 4,
 "nbformat_minor": 5
}

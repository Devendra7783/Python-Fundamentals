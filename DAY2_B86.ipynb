{
 "cells": [
  {
   "cell_type": "code",
   "execution_count": null,
   "id": "06631954-ec6c-4f6b-ab86-0203ca895b93",
   "metadata": {},
   "outputs": [],
   "source": [
    "Introduction to python programming :"
   ]
  },
  {
   "cell_type": "code",
   "execution_count": null,
   "id": "9d71dfa8-6b6e-47b1-a4cb-a54ab0d12a05",
   "metadata": {},
   "outputs": [],
   "source": []
  },
  {
   "cell_type": "code",
   "execution_count": null,
   "id": "bfbaebbe-a9e0-4680-89ec-b5a1bd850daa",
   "metadata": {},
   "outputs": [],
   "source": [
    "understanding the variables in python :"
   ]
  },
  {
   "cell_type": "code",
   "execution_count": 3,
   "id": "c0e99cab-8c94-4aab-b193-5618c0f88d8d",
   "metadata": {},
   "outputs": [],
   "source": [
    "X = 2\n",
    "Y = 3"
   ]
  },
  {
   "cell_type": "code",
   "execution_count": 6,
   "id": "b332eed6-09d6-4165-8b09-bb4210fdad43",
   "metadata": {},
   "outputs": [
    {
     "name": "stdout",
     "output_type": "stream",
     "text": [
      "5\n"
     ]
    }
   ],
   "source": [
    "Z = X+Y\n",
    "\n",
    "print(Z)"
   ]
  },
  {
   "cell_type": "code",
   "execution_count": null,
   "id": "39fb1d36-75bc-424f-b825-ba7bfc7f0009",
   "metadata": {},
   "outputs": [],
   "source": []
  },
  {
   "cell_type": "code",
   "execution_count": null,
   "id": "9b9e17f0-6510-4490-b187-79c259c7965b",
   "metadata": {},
   "outputs": [],
   "source": [
    "Rules for declaring the variables in python :"
   ]
  },
  {
   "cell_type": "code",
   "execution_count": null,
   "id": "87e06620-4fe4-45d2-a588-2074e8145d51",
   "metadata": {},
   "outputs": [],
   "source": [
    "Rule No 1 : No Namespaces while declaring the variable name"
   ]
  },
  {
   "cell_type": "code",
   "execution_count": 8,
   "id": "e995dbff-6ea1-46e3-b715-997c64fbaba6",
   "metadata": {},
   "outputs": [
    {
     "name": "stdout",
     "output_type": "stream",
     "text": [
      "Devendra\n"
     ]
    }
   ],
   "source": [
    "firstname = 'Devendra'\n",
    "print(firstname)"
   ]
  },
  {
   "cell_type": "code",
   "execution_count": null,
   "id": "19a0843f-57a0-4a00-a6f1-fa1243ab69ac",
   "metadata": {},
   "outputs": [],
   "source": [
    "Rule No 2 : A variable name should not start with a number **"
   ]
  },
  {
   "cell_type": "code",
   "execution_count": 9,
   "id": "abbe1a4e-a827-4019-80bb-5ff0f75c939a",
   "metadata": {},
   "outputs": [
    {
     "ename": "SyntaxError",
     "evalue": "invalid decimal literal (862029771.py, line 1)",
     "output_type": "error",
     "traceback": [
      "\u001b[1;36m  Cell \u001b[1;32mIn[9], line 1\u001b[1;36m\u001b[0m\n\u001b[1;33m    1name = 'monty'\u001b[0m\n\u001b[1;37m    ^\u001b[0m\n\u001b[1;31mSyntaxError\u001b[0m\u001b[1;31m:\u001b[0m invalid decimal literal\n"
     ]
    }
   ],
   "source": [
    "1name = 'monty'\n",
    "print(1name)"
   ]
  },
  {
   "cell_type": "code",
   "execution_count": 10,
   "id": "2ee21c2f-e3e9-4f55-94c0-4a6a7d0881e5",
   "metadata": {},
   "outputs": [
    {
     "name": "stdout",
     "output_type": "stream",
     "text": [
      "monty\n"
     ]
    }
   ],
   "source": [
    "name1 = 'monty'\n",
    "print(name1)"
   ]
  },
  {
   "cell_type": "code",
   "execution_count": null,
   "id": "9752ba21-9773-4199-8bec-96b543aa594d",
   "metadata": {},
   "outputs": [],
   "source": [
    "Rule No 3 : A variable name should not contain anyspecial characters."
   ]
  },
  {
   "cell_type": "code",
   "execution_count": null,
   "id": "1d99d1be-61c1-4e4f-9254-53e09b622249",
   "metadata": {},
   "outputs": [],
   "source": [
    "@ # $ & *"
   ]
  },
  {
   "cell_type": "code",
   "execution_count": 11,
   "id": "df10210a-cd9f-4462-b053-4ffa721f588d",
   "metadata": {},
   "outputs": [
    {
     "ename": "SyntaxError",
     "evalue": "invalid syntax (2866799071.py, line 1)",
     "output_type": "error",
     "traceback": [
      "\u001b[1;36m  Cell \u001b[1;32mIn[11], line 1\u001b[1;36m\u001b[0m\n\u001b[1;33m    name@ = 'joseph'\u001b[0m\n\u001b[1;37m          ^\u001b[0m\n\u001b[1;31mSyntaxError\u001b[0m\u001b[1;31m:\u001b[0m invalid syntax\n"
     ]
    }
   ],
   "source": [
    "name@ = 'joseph'\n",
    "print(name@)"
   ]
  },
  {
   "cell_type": "code",
   "execution_count": null,
   "id": "f76d5cb0-4349-4a63-bff2-49522654e411",
   "metadata": {},
   "outputs": [],
   "source": [
    "introduction to datatypes :\n",
    "    1. string ========> str\n",
    "    2. Numbers ( integers ===> int and Floats (decimals ===> 0.1,0.2)) ====> float\n",
    "    3. lists ====> list\n",
    "    4. tuples ====> tuple\n",
    "    5. Dictionaries =====> dict"
   ]
  },
  {
   "cell_type": "code",
   "execution_count": null,
   "id": "7d695977-33cd-4436-8531-f63098935584",
   "metadata": {},
   "outputs": [],
   "source": [
    "classification of datatypes :\n",
    "     broadly datatypes are classified in to two categories :\n",
    "        1. Mutable datatypes ===> which we can edit / alter ===> flexible in nature\n",
    "        2. immutable datatypes ===> which we cannot be able to edit / alter ===> fixed in nature"
   ]
  },
  {
   "cell_type": "code",
   "execution_count": null,
   "id": "30400bb1-0be8-4bb1-8ed5-d2093330f731",
   "metadata": {},
   "outputs": [],
   "source": [
    "introduction to string datatype :\n",
    "Defination : A string is nothing but a series of characters declared in qutoes.\n",
    "\n",
    "Classification : it is classified as an immutable datatype\n",
    "\n",
    "how to define the string datatype :\n",
    "\n",
    "    1. single qutoes\n",
    "    2. double qutoes"
   ]
  },
  {
   "cell_type": "code",
   "execution_count": 12,
   "id": "625b3922-17ce-44f3-9ea8-0f5c0871b77e",
   "metadata": {},
   "outputs": [
    {
     "name": "stdout",
     "output_type": "stream",
     "text": [
      "GLA\n"
     ]
    }
   ],
   "source": [
    "name = 'GLA' # single qutoe\n",
    "print(name)"
   ]
  },
  {
   "cell_type": "markdown",
   "id": "6a406bd6-de52-494c-b0b9-b1c2ae8c127a",
   "metadata": {},
   "source": []
  },
  {
   "cell_type": "code",
   "execution_count": 13,
   "id": "c4c80654-d51a-4095-8951-40202edfaa51",
   "metadata": {},
   "outputs": [
    {
     "name": "stdout",
     "output_type": "stream",
     "text": [
      "BSA C\n"
     ]
    }
   ],
   "source": [
    "name2 = \"BSA C\" # double qutoe\n",
    "print(name2)"
   ]
  },
  {
   "cell_type": "code",
   "execution_count": null,
   "id": "d29e9902-fd1d-431f-aa34-dc68c192e70b",
   "metadata": {},
   "outputs": [],
   "source": [
    "introduction to string methods :"
   ]
  },
  {
   "cell_type": "code",
   "execution_count": 14,
   "id": "cb1fa478-67e1-469d-a269-bf33a5f329d0",
   "metadata": {},
   "outputs": [
    {
     "data": {
      "text/plain": [
       "str"
      ]
     },
     "execution_count": 14,
     "metadata": {},
     "output_type": "execute_result"
    }
   ],
   "source": [
    "type(name)"
   ]
  },
  {
   "cell_type": "code",
   "execution_count": 15,
   "id": "49291fc1-054e-4753-aae3-ec29440a3b00",
   "metadata": {},
   "outputs": [
    {
     "data": {
      "text/plain": [
       "str"
      ]
     },
     "execution_count": 15,
     "metadata": {},
     "output_type": "execute_result"
    }
   ],
   "source": [
    "type(name2)"
   ]
  },
  {
   "cell_type": "code",
   "execution_count": 16,
   "id": "6d4312ad-c5e9-4ae9-a9be-bf8362fb83d2",
   "metadata": {},
   "outputs": [
    {
     "name": "stdout",
     "output_type": "stream",
     "text": [
      "joseph anthony\n"
     ]
    }
   ],
   "source": [
    "fullname = \"joseph anthony\"\n",
    "print(fullname)"
   ]
  },
  {
   "cell_type": "code",
   "execution_count": 17,
   "id": "d8e2058b-92f1-49c7-9d5f-6c6b08ec4997",
   "metadata": {},
   "outputs": [
    {
     "name": "stdout",
     "output_type": "stream",
     "text": [
      "Joseph Anthony\n"
     ]
    }
   ],
   "source": [
    "print(fullname.title())"
   ]
  },
  {
   "cell_type": "code",
   "execution_count": null,
   "id": "136a1c83-20f5-45ca-800c-aa8fcd9976f2",
   "metadata": {},
   "outputs": [],
   "source": [
    "# req : i want the entire name in capitals.."
   ]
  },
  {
   "cell_type": "code",
   "execution_count": 18,
   "id": "ea3ff480-d178-4dcb-b60f-daae164eb39f",
   "metadata": {},
   "outputs": [
    {
     "name": "stdout",
     "output_type": "stream",
     "text": [
      "JOSEPH ANTHONY\n"
     ]
    }
   ],
   "source": [
    "print(fullname.upper())"
   ]
  },
  {
   "cell_type": "code",
   "execution_count": null,
   "id": "0316f972-3f21-4965-ba66-e79bdb25c23a",
   "metadata": {},
   "outputs": [],
   "source": [
    "# req : i want the entire name in small case letters..."
   ]
  },
  {
   "cell_type": "code",
   "execution_count": 19,
   "id": "89eb54c2-884b-4419-b3aa-1e221e5b1a56",
   "metadata": {},
   "outputs": [
    {
     "name": "stdout",
     "output_type": "stream",
     "text": [
      "joseph anthony\n"
     ]
    }
   ],
   "source": [
    "print(fullname.lower())"
   ]
  },
  {
   "cell_type": "code",
   "execution_count": 20,
   "id": "5c33cfa2-3b63-4972-bf5d-50e9ff4b3b34",
   "metadata": {},
   "outputs": [
    {
     "ename": "AttributeError",
     "evalue": "'str' object has no attribute 'proper'",
     "output_type": "error",
     "traceback": [
      "\u001b[1;31m---------------------------------------------------------------------------\u001b[0m",
      "\u001b[1;31mAttributeError\u001b[0m                            Traceback (most recent call last)",
      "Cell \u001b[1;32mIn[20], line 1\u001b[0m\n\u001b[1;32m----> 1\u001b[0m \u001b[38;5;28mprint\u001b[39m(fullname\u001b[38;5;241m.\u001b[39mproper())\n",
      "\u001b[1;31mAttributeError\u001b[0m: 'str' object has no attribute 'proper'"
     ]
    }
   ],
   "source": [
    "print(fullname.proper())"
   ]
  },
  {
   "cell_type": "code",
   "execution_count": null,
   "id": "22fe9f46-f0c9-4c7d-a3fc-c81e98730a5c",
   "metadata": {},
   "outputs": [],
   "source": []
  },
  {
   "cell_type": "code",
   "execution_count": null,
   "id": "957a9e9c-7370-48fb-a039-67365e70b7ce",
   "metadata": {},
   "outputs": [],
   "source": []
  },
  {
   "cell_type": "code",
   "execution_count": null,
   "id": "c71c5eda-99e1-432f-8714-9ca89f6a116a",
   "metadata": {},
   "outputs": [],
   "source": []
  },
  {
   "cell_type": "code",
   "execution_count": null,
   "id": "9f300790-2dc2-42a0-9b00-def8464a73c6",
   "metadata": {},
   "outputs": [],
   "source": []
  },
  {
   "cell_type": "code",
   "execution_count": null,
   "id": "cedfaf58-d898-4e11-892d-6bd5f5215038",
   "metadata": {},
   "outputs": [],
   "source": []
  },
  {
   "cell_type": "code",
   "execution_count": null,
   "id": "2b110e0f-c7a5-47f5-a290-ff57c47b3e14",
   "metadata": {},
   "outputs": [],
   "source": []
  },
  {
   "cell_type": "code",
   "execution_count": null,
   "id": "10428fba-109e-4e59-af98-42efb52f461f",
   "metadata": {},
   "outputs": [],
   "source": []
  }
 ],
 "metadata": {
  "kernelspec": {
   "display_name": "Python 3",
   "language": "python",
   "name": "python3"
  },
  "language_info": {
   "codemirror_mode": {
    "name": "ipython",
    "version": 3
   },
   "file_extension": ".py",
   "mimetype": "text/x-python",
   "name": "python",
   "nbconvert_exporter": "python",
   "pygments_lexer": "ipython3",
   "version": "3.11.7"
  }
 },
 "nbformat": 4,
 "nbformat_minor": 5
}

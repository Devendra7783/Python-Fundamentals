{
 "cells": [
  {
   "cell_type": "code",
   "execution_count": null,
   "id": "1271918a-d123-46da-a57c-baba41add643",
   "metadata": {},
   "outputs": [],
   "source": [
    "continuation with list datatype :"
   ]
  },
  {
   "cell_type": "code",
   "execution_count": null,
   "id": "02963ead-336f-4039-9567-8cd017e91b7d",
   "metadata": {},
   "outputs": [],
   "source": [
    "organising the list datatype :"
   ]
  },
  {
   "cell_type": "code",
   "execution_count": 1,
   "id": "232f92f7-0f7c-426a-8e83-d992ef94e54f",
   "metadata": {},
   "outputs": [],
   "source": [
    "cars = ['maruti', 'kia', 'benz', 'suzuki', 'audio', 'bmw']"
   ]
  },
  {
   "cell_type": "code",
   "execution_count": 2,
   "id": "ecca20dc-1303-4e78-b5e3-5f8b86414073",
   "metadata": {},
   "outputs": [
    {
     "name": "stdout",
     "output_type": "stream",
     "text": [
      "['maruti', 'kia', 'benz', 'suzuki', 'audio', 'bmw']\n"
     ]
    }
   ],
   "source": [
    "print(cars)"
   ]
  },
  {
   "cell_type": "code",
   "execution_count": 3,
   "id": "c73deaf5-6ba8-49fb-9cf4-07c97cc9dc4a",
   "metadata": {},
   "outputs": [
    {
     "data": {
      "text/plain": [
       "list"
      ]
     },
     "execution_count": 3,
     "metadata": {},
     "output_type": "execute_result"
    }
   ],
   "source": [
    "type(cars)"
   ]
  },
  {
   "cell_type": "code",
   "execution_count": null,
   "id": "0e309a78-ff61-4c54-bce4-f04b0797833b",
   "metadata": {},
   "outputs": [],
   "source": [
    "# req : i want to organise the list in alphabetical order.....A-Z"
   ]
  },
  {
   "cell_type": "code",
   "execution_count": null,
   "id": "2e5b6979-faa8-4801-aa18-52baaf219c43",
   "metadata": {},
   "outputs": [],
   "source": [
    "there are two approaches :\n",
    "    1. temp approach   ========>  sorted ===> we will be having the original order of the list created\n",
    "    2. permanent approach ===> chnages are implied permanently."
   ]
  },
  {
   "cell_type": "code",
   "execution_count": 14,
   "id": "969086ca-85f2-4994-be5f-8cef343b5998",
   "metadata": {},
   "outputs": [
    {
     "name": "stdout",
     "output_type": "stream",
     "text": [
      "['audio', 'benz', 'bmw', 'kia', 'maruti', 'suzuki']\n"
     ]
    }
   ],
   "source": [
    "print(sorted(cars))"
   ]
  },
  {
   "cell_type": "code",
   "execution_count": null,
   "id": "6b6643d9-6e74-4180-ba25-924bc33d1460",
   "metadata": {},
   "outputs": [],
   "source": [
    "# audio, benz, bmw.."
   ]
  },
  {
   "cell_type": "code",
   "execution_count": 16,
   "id": "8bb89dda-05e2-4bfe-9ced-31143ec553ad",
   "metadata": {},
   "outputs": [
    {
     "name": "stdout",
     "output_type": "stream",
     "text": [
      "['suzuki', 'maruti', 'kia', 'bmw', 'benz', 'audio']\n"
     ]
    }
   ],
   "source": [
    "print(cars) # orginal order ..."
   ]
  },
  {
   "cell_type": "code",
   "execution_count": 6,
   "id": "5f827e5e-89da-4e87-80ab-06dac0d0301e",
   "metadata": {},
   "outputs": [],
   "source": [
    "cars.sort()"
   ]
  },
  {
   "cell_type": "code",
   "execution_count": 8,
   "id": "588f1db8-b4e9-4c8c-898d-9976cbe4cb7f",
   "metadata": {},
   "outputs": [
    {
     "name": "stdout",
     "output_type": "stream",
     "text": [
      "['audio', 'benz', 'bmw', 'kia', 'maruti', 'suzuki']\n"
     ]
    }
   ],
   "source": [
    "print(cars)  # a to z order"
   ]
  },
  {
   "cell_type": "code",
   "execution_count": null,
   "id": "d0f2f64a-42aa-4aec-9e3d-7820b82eb915",
   "metadata": {},
   "outputs": [],
   "source": [
    "benz and bmw ====> b,b e, m"
   ]
  },
  {
   "cell_type": "code",
   "execution_count": null,
   "id": "ccf3d5f9-a1f9-4fa3-a561-b8201af30745",
   "metadata": {},
   "outputs": [],
   "source": [
    "# interview question : what is diff btw sorted and sort methods in a list...?"
   ]
  },
  {
   "cell_type": "code",
   "execution_count": null,
   "id": "49da7d5e-aa6b-4c62-89e4-abb439acec57",
   "metadata": {},
   "outputs": [],
   "source": [
    "# interviewer answer : sorted() give new sorted list with original list unchanged, sort() sort the list in place mutatin its index and returing none."
   ]
  },
  {
   "cell_type": "code",
   "execution_count": null,
   "id": "80dceead-e20c-443f-b1dc-8fd9171c30e8",
   "metadata": {},
   "outputs": [],
   "source": [
    "# i want to print the list in the reverse order ===> A-Z =====> Z - A"
   ]
  },
  {
   "cell_type": "code",
   "execution_count": 11,
   "id": "7b43c36e-2e71-4a6e-8216-7e43081d530c",
   "metadata": {},
   "outputs": [],
   "source": [
    "cars.reverse()"
   ]
  },
  {
   "cell_type": "code",
   "execution_count": 12,
   "id": "c4a83615-8778-4d2a-9dff-9e1415a6aa7d",
   "metadata": {},
   "outputs": [
    {
     "name": "stdout",
     "output_type": "stream",
     "text": [
      "['suzuki', 'maruti', 'kia', 'bmw', 'benz', 'audio']\n"
     ]
    }
   ],
   "source": [
    "print(cars)"
   ]
  },
  {
   "cell_type": "code",
   "execution_count": null,
   "id": "38fe25d8-b455-4c8c-be41-f5398dec24b8",
   "metadata": {},
   "outputs": [],
   "source": [
    "# i want to know the total count of elements"
   ]
  },
  {
   "cell_type": "code",
   "execution_count": 17,
   "id": "f6827b13-5320-4817-8979-f52dc08c4ee3",
   "metadata": {},
   "outputs": [
    {
     "name": "stdout",
     "output_type": "stream",
     "text": [
      "['suzuki', 'maruti', 'kia', 'bmw', 'benz', 'audio']\n"
     ]
    }
   ],
   "source": [
    "print(cars)"
   ]
  },
  {
   "cell_type": "code",
   "execution_count": 18,
   "id": "a3d07a4f-9420-44cf-bb4c-e26014b6fb5f",
   "metadata": {},
   "outputs": [
    {
     "data": {
      "text/plain": [
       "6"
      ]
     },
     "execution_count": 18,
     "metadata": {},
     "output_type": "execute_result"
    }
   ],
   "source": [
    "len(cars)"
   ]
  },
  {
   "cell_type": "code",
   "execution_count": null,
   "id": "5925d199-ce5e-44f6-b5cd-4ef4d0c1af0c",
   "metadata": {},
   "outputs": [],
   "source": [
    "# introduction to slicing :"
   ]
  },
  {
   "cell_type": "code",
   "execution_count": 24,
   "id": "6d523820-e049-419a-bb5d-9a71fe6fd110",
   "metadata": {},
   "outputs": [],
   "source": [
    "# general syntax of slicing :\n",
    "# (start_value:stop_value:step_count)\n",
    "\n",
    "# note : stop_value will be always excusilve, to include we have to increment the index by +1.\n",
    "# starting value always 0"
   ]
  },
  {
   "cell_type": "code",
   "execution_count": 25,
   "id": "86407b83-a616-442e-9619-0bfea2db66d5",
   "metadata": {},
   "outputs": [],
   "source": [
    "students = ['diksha', 'sonam', 'naveen', 'pradeep', 'abdul', 'nahid', 'afsha', 'muskan']"
   ]
  },
  {
   "cell_type": "code",
   "execution_count": 26,
   "id": "095961ba-7e27-4146-85db-68028ebe81fc",
   "metadata": {},
   "outputs": [
    {
     "name": "stdout",
     "output_type": "stream",
     "text": [
      "['diksha', 'sonam', 'naveen', 'pradeep', 'abdul', 'nahid', 'afsha', 'muskan']\n"
     ]
    }
   ],
   "source": [
    "print(students)"
   ]
  },
  {
   "cell_type": "code",
   "execution_count": 28,
   "id": "069bd182-44ba-4afe-803b-c8f5ada5fae9",
   "metadata": {},
   "outputs": [
    {
     "name": "stdout",
     "output_type": "stream",
     "text": [
      "['diksha']\n"
     ]
    }
   ],
   "source": [
    "print(students[0:1])"
   ]
  },
  {
   "cell_type": "code",
   "execution_count": 31,
   "id": "e98c36be-59f9-4038-be0a-fa1e3144e428",
   "metadata": {},
   "outputs": [
    {
     "name": "stdout",
     "output_type": "stream",
     "text": [
      "['diksha', 'sonam', 'naveen']\n"
     ]
    }
   ],
   "source": [
    "print(students[0:3]) # want to print name naveen"
   ]
  },
  {
   "cell_type": "code",
   "execution_count": 33,
   "id": "998d284e-04a4-4cd4-99b5-73fdffb1c82e",
   "metadata": {},
   "outputs": [
    {
     "name": "stdout",
     "output_type": "stream",
     "text": [
      "['naveen', 'pradeep']\n"
     ]
    }
   ],
   "source": [
    "print(students[2:4]) # for print naveen & pradeep"
   ]
  },
  {
   "cell_type": "code",
   "execution_count": 36,
   "id": "2d044ac2-fbee-42fd-a9b9-25321f842646",
   "metadata": {},
   "outputs": [
    {
     "name": "stdout",
     "output_type": "stream",
     "text": [
      "['diksha', 'naveen', 'abdul', 'afsha']\n"
     ]
    }
   ],
   "source": [
    "print(students[0:9:2]) # for print the name in even series"
   ]
  },
  {
   "cell_type": "code",
   "execution_count": 38,
   "id": "2e2de2b2-3c08-4cd9-867d-151147ecb821",
   "metadata": {},
   "outputs": [
    {
     "name": "stdout",
     "output_type": "stream",
     "text": [
      "['diksha', 'pradeep', 'afsha']\n"
     ]
    }
   ],
   "source": [
    "print(students[0:9:3]) # for print the name in odd series"
   ]
  },
  {
   "cell_type": "code",
   "execution_count": null,
   "id": "0c31e762-9b04-49c5-8e5f-cdbdd998556b",
   "metadata": {},
   "outputs": [],
   "source": []
  }
 ],
 "metadata": {
  "kernelspec": {
   "display_name": "Python 3",
   "language": "python",
   "name": "python3"
  },
  "language_info": {
   "codemirror_mode": {
    "name": "ipython",
    "version": 3
   },
   "file_extension": ".py",
   "mimetype": "text/x-python",
   "name": "python",
   "nbconvert_exporter": "python",
   "pygments_lexer": "ipython3",
   "version": "3.11.7"
  }
 },
 "nbformat": 4,
 "nbformat_minor": 5
}

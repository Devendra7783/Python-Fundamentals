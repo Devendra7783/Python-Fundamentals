{
 "cells": [
  {
   "cell_type": "code",
   "execution_count": null,
   "id": "cc86d108-2d79-4e54-ba5f-d5cd76464a72",
   "metadata": {},
   "outputs": [],
   "source": [
    "introduction to list datatype :"
   ]
  },
  {
   "cell_type": "code",
   "execution_count": null,
   "id": "26a028fc-2f36-4dfb-a9c3-1e0366c60ef3",
   "metadata": {},
   "outputs": [],
   "source": [
    "Defination : A list is a collection of items declared in a particular order\n",
    "classification : it is classified as a mutable datatypes\n",
    "how to define / declare the list datatype...[]"
   ]
  },
  {
   "cell_type": "code",
   "execution_count": null,
   "id": "dd7a33b1-d67e-45f8-b765-3269691ba369",
   "metadata": {},
   "outputs": [],
   "source": []
  },
  {
   "cell_type": "code",
   "execution_count": 1,
   "id": "9ad5333f-85ab-4c60-a4eb-b1e55f18a4d6",
   "metadata": {},
   "outputs": [],
   "source": [
    "students = ['afsha','pradeepa','naveen','prakash','muskan','abdul']"
   ]
  },
  {
   "cell_type": "code",
   "execution_count": 2,
   "id": "b2dec3dc-c9a3-4e1b-b882-db53e133583d",
   "metadata": {},
   "outputs": [
    {
     "name": "stdout",
     "output_type": "stream",
     "text": [
      "['afsha', 'pradeepa', 'naveen', 'prakash', 'muskan', 'abdul']\n"
     ]
    }
   ],
   "source": [
    "print(students)"
   ]
  },
  {
   "cell_type": "code",
   "execution_count": 3,
   "id": "c7b7d7d3-97de-4b4d-8004-84dab03ee496",
   "metadata": {},
   "outputs": [
    {
     "data": {
      "text/plain": [
       "list"
      ]
     },
     "execution_count": 3,
     "metadata": {},
     "output_type": "execute_result"
    }
   ],
   "source": [
    "type(students)"
   ]
  },
  {
   "cell_type": "code",
   "execution_count": null,
   "id": "39b0dd56-3771-4506-9dc9-fcc750eb1031",
   "metadata": {},
   "outputs": [],
   "source": [
    "introdcution to indexing : indexing will be starting from the value 0 onwards."
   ]
  },
  {
   "cell_type": "code",
   "execution_count": null,
   "id": "545ce494-ace2-4cef-ad6b-2f2bc5fca848",
   "metadata": {},
   "outputs": [],
   "source": [
    "# req : i want to get pradeepa name in the output..........?"
   ]
  },
  {
   "cell_type": "code",
   "execution_count": 5,
   "id": "8c94f3e4-67e3-411a-8686-01fb159c17c5",
   "metadata": {},
   "outputs": [
    {
     "name": "stdout",
     "output_type": "stream",
     "text": [
      "pradeepa\n"
     ]
    }
   ],
   "source": [
    "print(students[1])"
   ]
  },
  {
   "cell_type": "code",
   "execution_count": 7,
   "id": "a9b28616-bb3a-4f37-8d5a-ad8f96f8a5f3",
   "metadata": {},
   "outputs": [
    {
     "name": "stdout",
     "output_type": "stream",
     "text": [
      "Pradeepa\n"
     ]
    }
   ],
   "source": [
    "print(students[1].title())"
   ]
  },
  {
   "cell_type": "code",
   "execution_count": null,
   "id": "58f2452d-fe92-4438-8277-52ad93a68654",
   "metadata": {},
   "outputs": [],
   "source": [
    "# req : i want to get prakash name in the output............?"
   ]
  },
  {
   "cell_type": "code",
   "execution_count": 8,
   "id": "83dcb0a2-cf1b-4db0-84ce-3c41ae14f71c",
   "metadata": {},
   "outputs": [
    {
     "name": "stdout",
     "output_type": "stream",
     "text": [
      "Prakash\n"
     ]
    }
   ],
   "source": [
    "print(students[3].title())"
   ]
  },
  {
   "cell_type": "code",
   "execution_count": null,
   "id": "d56e7a2d-9412-46f6-81e5-378413e32d4d",
   "metadata": {},
   "outputs": [],
   "source": [
    "1. how to add new elements to the list\n",
    "2. how to modify the elements in the list\n",
    "3. how to delete the elements in the list"
   ]
  },
  {
   "cell_type": "code",
   "execution_count": null,
   "id": "c0c95486-3d21-426d-b593-bd66076c05f1",
   "metadata": {},
   "outputs": [],
   "source": [
    "# req : i want to add joseph to the above list...........?"
   ]
  },
  {
   "cell_type": "code",
   "execution_count": 9,
   "id": "a1812147-3d10-43ea-a287-19c62c9265f5",
   "metadata": {},
   "outputs": [
    {
     "name": "stdout",
     "output_type": "stream",
     "text": [
      "['afsha', 'pradeepa', 'naveen', 'prakash', 'muskan', 'abdul']\n"
     ]
    }
   ],
   "source": [
    "print(students)"
   ]
  },
  {
   "cell_type": "code",
   "execution_count": 10,
   "id": "d4806e33-0ee4-4c00-af2c-46ba41787a43",
   "metadata": {},
   "outputs": [],
   "source": [
    "students.append('joseph')"
   ]
  },
  {
   "cell_type": "code",
   "execution_count": 11,
   "id": "46f45fbd-276f-4aeb-9a6d-2ec2c0358a9e",
   "metadata": {},
   "outputs": [
    {
     "name": "stdout",
     "output_type": "stream",
     "text": [
      "['afsha', 'pradeepa', 'naveen', 'prakash', 'muskan', 'abdul', 'joseph']\n"
     ]
    }
   ],
   "source": [
    "print(students)"
   ]
  },
  {
   "cell_type": "code",
   "execution_count": null,
   "id": "014d4425-ecf0-4744-a176-1ba2dfb2e393",
   "metadata": {},
   "outputs": [],
   "source": [
    "# req : i want to add santosh to the above list...?"
   ]
  },
  {
   "cell_type": "code",
   "execution_count": 12,
   "id": "46c40520-5df9-420f-8c8d-59f3ae03cf0e",
   "metadata": {},
   "outputs": [],
   "source": [
    "students.append('santosh')"
   ]
  },
  {
   "cell_type": "code",
   "execution_count": 13,
   "id": "5dacfcca-eceb-42be-b101-fdfc1e8bd5b6",
   "metadata": {},
   "outputs": [
    {
     "name": "stdout",
     "output_type": "stream",
     "text": [
      "['afsha', 'pradeepa', 'naveen', 'prakash', 'muskan', 'abdul', 'joseph', 'santosh']\n"
     ]
    }
   ],
   "source": [
    "print(students)"
   ]
  },
  {
   "cell_type": "code",
   "execution_count": null,
   "id": "c4823cd4-19ac-48e3-9bfb-faf98bcbf4fb",
   "metadata": {},
   "outputs": [],
   "source": [
    "# req : i want to add afreen to the above list.....in the 2nd index position"
   ]
  },
  {
   "cell_type": "code",
   "execution_count": 14,
   "id": "72f93f64-ec6e-48a6-8689-da94d79bf422",
   "metadata": {},
   "outputs": [],
   "source": [
    "students.insert(2,'afreen')"
   ]
  },
  {
   "cell_type": "code",
   "execution_count": 15,
   "id": "cea18d64-2d40-4e74-8047-106315df5dfe",
   "metadata": {},
   "outputs": [
    {
     "name": "stdout",
     "output_type": "stream",
     "text": [
      "['afsha', 'pradeepa', 'afreen', 'naveen', 'prakash', 'muskan', 'abdul', 'joseph', 'santosh']\n"
     ]
    }
   ],
   "source": [
    "print(students)"
   ]
  },
  {
   "cell_type": "code",
   "execution_count": 16,
   "id": "717b0a64-3120-4369-b075-abd55405de12",
   "metadata": {},
   "outputs": [],
   "source": [
    "students.insert(0,'devendra')"
   ]
  },
  {
   "cell_type": "code",
   "execution_count": 17,
   "id": "c3804aa1-7af7-4e8e-9e1e-044d36cb9bf8",
   "metadata": {},
   "outputs": [
    {
     "name": "stdout",
     "output_type": "stream",
     "text": [
      "['devendra', 'afsha', 'pradeepa', 'afreen', 'naveen', 'prakash', 'muskan', 'abdul', 'joseph', 'santosh']\n"
     ]
    }
   ],
   "source": [
    "print(students)"
   ]
  },
  {
   "cell_type": "code",
   "execution_count": 18,
   "id": "88b0b03a-0fc6-49f0-af8a-af96572b7513",
   "metadata": {},
   "outputs": [
    {
     "name": "stdout",
     "output_type": "stream",
     "text": [
      "pradeepa\n"
     ]
    }
   ],
   "source": [
    "print(students[2])"
   ]
  },
  {
   "cell_type": "code",
   "execution_count": 19,
   "id": "9d88da0f-74a7-48b9-9e16-7d0a6acf5d9b",
   "metadata": {},
   "outputs": [
    {
     "name": "stdout",
     "output_type": "stream",
     "text": [
      "afreen\n"
     ]
    }
   ],
   "source": [
    "print(students[3])"
   ]
  },
  {
   "cell_type": "code",
   "execution_count": 20,
   "id": "8eed7aa8-8b12-43df-9caf-3067942cdb01",
   "metadata": {},
   "outputs": [
    {
     "name": "stdout",
     "output_type": "stream",
     "text": [
      "devendra\n"
     ]
    }
   ],
   "source": [
    "print(students[0])"
   ]
  },
  {
   "cell_type": "code",
   "execution_count": null,
   "id": "e05d4de2-815a-497f-9457-b4889a9e2fc1",
   "metadata": {},
   "outputs": [],
   "source": [
    "interview question : what is the diff btw append and intsert method in a list, can you please explain?"
   ]
  },
  {
   "cell_type": "code",
   "execution_count": null,
   "id": "fa9562ae-bee0-48a8-a9c2-bc2d17790c2e",
   "metadata": {},
   "outputs": [],
   "source": [
    "interview answer : Append use for adding the things in the list and insert use for adding the things in place or as per indexing"
   ]
  },
  {
   "cell_type": "raw",
   "id": "54a050bc-6c03-469e-ad03-1e14770ed1ed",
   "metadata": {},
   "source": []
  },
  {
   "cell_type": "code",
   "execution_count": null,
   "id": "78a60f46-448b-4f03-ac7e-78d6d4a64f06",
   "metadata": {},
   "outputs": [],
   "source": [
    "# req : i want modify afsha name to sonam"
   ]
  },
  {
   "cell_type": "code",
   "execution_count": 22,
   "id": "1fbbf49c-9695-4acf-80a6-4c4d42602415",
   "metadata": {},
   "outputs": [],
   "source": [
    "students[1] = 'sonam'"
   ]
  },
  {
   "cell_type": "raw",
   "id": "0417fd93-2d5b-4f0d-b342-e5052ec2e8d0",
   "metadata": {},
   "source": [
    "print(students)"
   ]
  },
  {
   "cell_type": "code",
   "execution_count": 23,
   "id": "5278bd26-c14e-4abf-8fba-d938748d95c5",
   "metadata": {},
   "outputs": [
    {
     "name": "stdout",
     "output_type": "stream",
     "text": [
      "['devendra', 'sonam', 'pradeepa', 'afreen', 'naveen', 'prakash', 'muskan', 'abdul', 'joseph', 'santosh']\n"
     ]
    }
   ],
   "source": [
    "print(students)"
   ]
  },
  {
   "cell_type": "code",
   "execution_count": null,
   "id": "c9d2e733-9ba6-4819-bf68-02478658faf2",
   "metadata": {},
   "outputs": [],
   "source": [
    "# req : i want to delete the name naveen from the above list....?"
   ]
  },
  {
   "cell_type": "code",
   "execution_count": 24,
   "id": "da746501-9af8-402b-965b-490ea9098680",
   "metadata": {},
   "outputs": [],
   "source": [
    "del students[4]  # it will delete permanently.."
   ]
  },
  {
   "cell_type": "code",
   "execution_count": 25,
   "id": "b62f97c3-77d1-4d5b-b066-d1db7fd00fda",
   "metadata": {},
   "outputs": [
    {
     "name": "stdout",
     "output_type": "stream",
     "text": [
      "['devendra', 'sonam', 'pradeepa', 'afreen', 'prakash', 'muskan', 'abdul', 'joseph', 'santosh']\n"
     ]
    }
   ],
   "source": [
    "print(students)"
   ]
  },
  {
   "cell_type": "code",
   "execution_count": null,
   "id": "e8acc52e-aa8e-4e6d-bb88-2a22cd2bd7bc",
   "metadata": {},
   "outputs": [],
   "source": [
    "# temp deleting the elements using the pop method :\n",
    "\n",
    "pop will be by default deleting the last elements in the list."
   ]
  },
  {
   "cell_type": "code",
   "execution_count": 26,
   "id": "b3a0f3c5-fb6f-4e7c-bfbe-7981daf13d90",
   "metadata": {},
   "outputs": [
    {
     "name": "stdout",
     "output_type": "stream",
     "text": [
      "['devendra', 'sonam', 'pradeepa', 'afreen', 'prakash', 'muskan', 'abdul', 'joseph', 'santosh']\n"
     ]
    }
   ],
   "source": [
    "print(students)"
   ]
  },
  {
   "cell_type": "code",
   "execution_count": 27,
   "id": "36f3d9ac-709f-4747-8a22-cbff5f483a08",
   "metadata": {},
   "outputs": [],
   "source": [
    "y = students.pop()"
   ]
  },
  {
   "cell_type": "code",
   "execution_count": 28,
   "id": "fc517257-4513-4215-86ab-c584135368f8",
   "metadata": {},
   "outputs": [
    {
     "name": "stdout",
     "output_type": "stream",
     "text": [
      "['devendra', 'sonam', 'pradeepa', 'afreen', 'prakash', 'muskan', 'abdul', 'joseph']\n"
     ]
    }
   ],
   "source": [
    "print(students)"
   ]
  },
  {
   "cell_type": "code",
   "execution_count": 30,
   "id": "49b43937-29fc-48ec-a04e-f89fd928de73",
   "metadata": {},
   "outputs": [
    {
     "name": "stdout",
     "output_type": "stream",
     "text": [
      "santosh\n"
     ]
    }
   ],
   "source": [
    "print(y) # we found which elemens has been deleted"
   ]
  },
  {
   "cell_type": "code",
   "execution_count": null,
   "id": "53fcf8d3-969b-445e-b3e6-c1b8f9a16e17",
   "metadata": {},
   "outputs": [],
   "source": [
    "interview questions : what is the diff btw delete and pop methods in a list"
   ]
  },
  {
   "cell_type": "code",
   "execution_count": null,
   "id": "decf4cae-31d3-4902-a3ac-df28c2ed4eaa",
   "metadata": {},
   "outputs": [],
   "source": [
    "# is used for connecting the code"
   ]
  },
  {
   "cell_type": "code",
   "execution_count": null,
   "id": "9ef31b7e-7e04-4f95-bfbb-4adfe4085b93",
   "metadata": {},
   "outputs": [],
   "source": []
  },
  {
   "cell_type": "code",
   "execution_count": null,
   "id": "fc828102-a6ea-44b6-8c00-d736f3983c4c",
   "metadata": {},
   "outputs": [],
   "source": []
  },
  {
   "cell_type": "code",
   "execution_count": null,
   "id": "fe55f822-32eb-4ba8-a329-b2ac4ea7ccb1",
   "metadata": {},
   "outputs": [],
   "source": []
  }
 ],
 "metadata": {
  "kernelspec": {
   "display_name": "Python 3",
   "language": "python",
   "name": "python3"
  },
  "language_info": {
   "codemirror_mode": {
    "name": "ipython",
    "version": 3
   },
   "file_extension": ".py",
   "mimetype": "text/x-python",
   "name": "python",
   "nbconvert_exporter": "python",
   "pygments_lexer": "ipython3",
   "version": "3.11.7"
  }
 },
 "nbformat": 4,
 "nbformat_minor": 5
}

{
 "cells": [
  {
   "cell_type": "code",
   "execution_count": 3,
   "id": "c07eb7c4-86df-4cf2-b006-a92aa117ed4b",
   "metadata": {},
   "outputs": [],
   "source": [
    "#Introduction to looping statements :"
   ]
  },
  {
   "cell_type": "code",
   "execution_count": 4,
   "id": "b011488e-7abc-4fbd-a139-c4913905d6a6",
   "metadata": {},
   "outputs": [],
   "source": [
    "students = ['danish', 'kumar', 'naveen', 'tanya', 'likitha', 'somya']"
   ]
  },
  {
   "cell_type": "code",
   "execution_count": 5,
   "id": "7ee1fc3f-5d00-4846-a2ef-b7cb3c900b29",
   "metadata": {},
   "outputs": [
    {
     "name": "stdout",
     "output_type": "stream",
     "text": [
      "['danish', 'kumar', 'naveen', 'tanya', 'likitha', 'somya']\n"
     ]
    }
   ],
   "source": [
    "print(students)"
   ]
  },
  {
   "cell_type": "code",
   "execution_count": 7,
   "id": "e577bfaf-378e-434d-8918-0e87f5a3d6f3",
   "metadata": {},
   "outputs": [],
   "source": [
    "# req : i want to appreciate danish"
   ]
  },
  {
   "cell_type": "code",
   "execution_count": 11,
   "id": "32d89ecc-e7f7-44d2-84ef-a9345ff1d5e7",
   "metadata": {},
   "outputs": [],
   "source": [
    "message = f\"keep up the good work, {students[0].title()}\""
   ]
  },
  {
   "cell_type": "code",
   "execution_count": 13,
   "id": "a803560a-6dbf-45e0-93ad-6234ae5a7b0e",
   "metadata": {},
   "outputs": [
    {
     "name": "stdout",
     "output_type": "stream",
     "text": [
      "keep up the good work, Danish\n"
     ]
    }
   ],
   "source": [
    "print(message)"
   ]
  },
  {
   "cell_type": "code",
   "execution_count": 14,
   "id": "0779112f-4bcc-4c94-85fd-b360d4aa879b",
   "metadata": {},
   "outputs": [],
   "source": [
    "message = f\"keep up the good work, {students[2].title()}\""
   ]
  },
  {
   "cell_type": "code",
   "execution_count": 15,
   "id": "4e42252c-dd5b-46c2-9d13-1b77c27265b7",
   "metadata": {},
   "outputs": [
    {
     "name": "stdout",
     "output_type": "stream",
     "text": [
      "keep up the good work, Naveen\n"
     ]
    }
   ],
   "source": [
    "print(message)"
   ]
  },
  {
   "cell_type": "code",
   "execution_count": 16,
   "id": "2191668e-6dbe-42ab-931b-b823ebd2fd0a",
   "metadata": {},
   "outputs": [],
   "source": [
    "# general syntax of a for loop :"
   ]
  },
  {
   "cell_type": "code",
   "execution_count": 17,
   "id": "e450adf6-9aa3-48d7-a165-2444668f4593",
   "metadata": {},
   "outputs": [
    {
     "ename": "NameError",
     "evalue": "name 'mainvar' is not defined",
     "output_type": "error",
     "traceback": [
      "\u001b[1;31m---------------------------------------------------------------------------\u001b[0m",
      "\u001b[1;31mNameError\u001b[0m                                 Traceback (most recent call last)",
      "Cell \u001b[1;32mIn[17], line 1\u001b[0m\n\u001b[1;32m----> 1\u001b[0m \u001b[38;5;28;01mfor\u001b[39;00m tempvar \u001b[38;5;129;01min\u001b[39;00m mainvar:\n\u001b[0;32m      2\u001b[0m     \u001b[38;5;28mprint\u001b[39m(tempvar)\n",
      "\u001b[1;31mNameError\u001b[0m: name 'mainvar' is not defined"
     ]
    }
   ],
   "source": [
    "for tempvar in mainvar:\n",
    "    print(tempvar)"
   ]
  },
  {
   "cell_type": "code",
   "execution_count": 18,
   "id": "1c156fe7-83ed-4437-a88e-ecf37b103a43",
   "metadata": {},
   "outputs": [
    {
     "name": "stdout",
     "output_type": "stream",
     "text": [
      "keep up the good work, danish\n",
      "keep up the good work, kumar\n",
      "keep up the good work, naveen\n",
      "keep up the good work, tanya\n",
      "keep up the good work, likitha\n",
      "keep up the good work, somya\n"
     ]
    }
   ],
   "source": [
    "for x in students:\n",
    "    print(f\"keep up the good work, {x}\")"
   ]
  },
  {
   "cell_type": "code",
   "execution_count": 19,
   "id": "edfadab6-18a2-489d-adc2-324ea061d001",
   "metadata": {},
   "outputs": [
    {
     "name": "stdout",
     "output_type": "stream",
     "text": [
      "keep up the boys, danish\n",
      "keep up the boys, kumar\n",
      "keep up the boys, naveen\n",
      "keep up the boys, tanya\n",
      "keep up the boys, likitha\n",
      "keep up the boys, somya\n"
     ]
    }
   ],
   "source": [
    "for y in students:\n",
    "    print(f\"keep up the boys, {y}\")"
   ]
  },
  {
   "cell_type": "code",
   "execution_count": null,
   "id": "0e7b160c-a6d8-4091-aa97-34ee729a53e4",
   "metadata": {},
   "outputs": [],
   "source": [
    "for tempvar in mainvar:  # indentation\n",
    "    print(tempvar)"
   ]
  },
  {
   "cell_type": "code",
   "execution_count": 20,
   "id": "aa0e611f-a628-493b-ae52-4eadb90e8ab0",
   "metadata": {},
   "outputs": [
    {
     "ename": "IndentationError",
     "evalue": "expected an indented block after 'for' statement on line 1 (415743777.py, line 2)",
     "output_type": "error",
     "traceback": [
      "\u001b[1;36m  Cell \u001b[1;32mIn[20], line 2\u001b[1;36m\u001b[0m\n\u001b[1;33m    print(f\"keep up the good work, {x}\")\u001b[0m\n\u001b[1;37m    ^\u001b[0m\n\u001b[1;31mIndentationError\u001b[0m\u001b[1;31m:\u001b[0m expected an indented block after 'for' statement on line 1\n"
     ]
    }
   ],
   "source": [
    "for x in students:\n",
    "print(f\"keep up the good work, {x}\")"
   ]
  },
  {
   "cell_type": "code",
   "execution_count": 22,
   "id": "2e46271e-e620-49e5-b528-6c356f7ec0fc",
   "metadata": {},
   "outputs": [
    {
     "name": "stdout",
     "output_type": "stream",
     "text": [
      "keep up the good work, danish\n",
      "do submit the practice work of today as well, danish\n",
      "practice makes a man perfect, danish\n",
      "keep up the good work, kumar\n",
      "do submit the practice work of today as well, kumar\n",
      "practice makes a man perfect, kumar\n",
      "keep up the good work, naveen\n",
      "do submit the practice work of today as well, naveen\n",
      "practice makes a man perfect, naveen\n",
      "keep up the good work, tanya\n",
      "do submit the practice work of today as well, tanya\n",
      "practice makes a man perfect, tanya\n",
      "keep up the good work, likitha\n",
      "do submit the practice work of today as well, likitha\n",
      "practice makes a man perfect, likitha\n",
      "keep up the good work, somya\n",
      "do submit the practice work of today as well, somya\n",
      "practice makes a man perfect, somya\n"
     ]
    }
   ],
   "source": [
    "for x in students:\n",
    "    print(f\"keep up the good work, {x}\")\n",
    "    print(f\"do submit the practice work of today as well, {x}\")\n",
    "    print(f\"practice makes a man perfect, {x}\")"
   ]
  },
  {
   "cell_type": "code",
   "execution_count": 23,
   "id": "6147ccd4-5e3b-4036-844d-fcaf63ca1453",
   "metadata": {},
   "outputs": [
    {
     "name": "stdout",
     "output_type": "stream",
     "text": [
      "keep up the good work, danish\n",
      "do submit the practice work of today as well, danish\n",
      "practice makes a man perfect, danish.\n",
      "\n",
      "keep up the good work, kumar\n",
      "do submit the practice work of today as well, kumar\n",
      "practice makes a man perfect, kumar.\n",
      "\n",
      "keep up the good work, naveen\n",
      "do submit the practice work of today as well, naveen\n",
      "practice makes a man perfect, naveen.\n",
      "\n",
      "keep up the good work, tanya\n",
      "do submit the practice work of today as well, tanya\n",
      "practice makes a man perfect, tanya.\n",
      "\n",
      "keep up the good work, likitha\n",
      "do submit the practice work of today as well, likitha\n",
      "practice makes a man perfect, likitha.\n",
      "\n",
      "keep up the good work, somya\n",
      "do submit the practice work of today as well, somya\n",
      "practice makes a man perfect, somya.\n",
      "\n"
     ]
    }
   ],
   "source": [
    "for x in students:\n",
    "    print(f\"keep up the good work, {x}\")\n",
    "    print(f\"do submit the practice work of today as well, {x}\")\n",
    "    print(f\"practice makes a man perfect, {x}.\\n\")"
   ]
  },
  {
   "cell_type": "code",
   "execution_count": 24,
   "id": "40f2b051-80c3-46ed-ad47-557114742f47",
   "metadata": {},
   "outputs": [
    {
     "name": "stdout",
     "output_type": "stream",
     "text": [
      "keep up the good work, danish\n",
      "do submit the practice work of today as well, danish.\n",
      "\n",
      "thank you all joining in the python sessions\n",
      "keep up the good work, kumar\n",
      "do submit the practice work of today as well, kumar.\n",
      "\n",
      "thank you all joining in the python sessions\n",
      "keep up the good work, naveen\n",
      "do submit the practice work of today as well, naveen.\n",
      "\n",
      "thank you all joining in the python sessions\n",
      "keep up the good work, tanya\n",
      "do submit the practice work of today as well, tanya.\n",
      "\n",
      "thank you all joining in the python sessions\n",
      "keep up the good work, likitha\n",
      "do submit the practice work of today as well, likitha.\n",
      "\n",
      "thank you all joining in the python sessions\n",
      "keep up the good work, somya\n",
      "do submit the practice work of today as well, somya.\n",
      "\n",
      "thank you all joining in the python sessions\n"
     ]
    }
   ],
   "source": [
    "for x in students:\n",
    "    print(f\"keep up the good work, {x}\")\n",
    "    print(f\"do submit the practice work of today as well, {x}.\\n\")\n",
    "    print(\"thank you all joining in the python sessions\")"
   ]
  },
  {
   "cell_type": "code",
   "execution_count": null,
   "id": "c6a7f61e-59b9-46c1-b9c2-6cbcd48c947a",
   "metadata": {},
   "outputs": [],
   "source": [
    "introduction to dictionary datatype :"
   ]
  },
  {
   "cell_type": "code",
   "execution_count": 27,
   "id": "f2ce670c-85d3-4261-8c44-4bab8cfae0fd",
   "metadata": {},
   "outputs": [],
   "source": [
    " # Defination : A dictionary is a combination of key value paris.\n",
    "# classification : It is classified as mutable datatype\n",
    "\n",
    "# how to we create a dictionary ============? {}"
   ]
  },
  {
   "cell_type": "code",
   "execution_count": 28,
   "id": "59efe03f-c291-4e74-8313-84529e429281",
   "metadata": {},
   "outputs": [],
   "source": [
    "# req : to create a sample dictionary : "
   ]
  },
  {
   "cell_type": "code",
   "execution_count": 30,
   "id": "d3a9fb21-28de-43ae-8abc-f40f8cdcf10e",
   "metadata": {},
   "outputs": [],
   "source": [
    "alien = {'color':'green','points':5}"
   ]
  },
  {
   "cell_type": "code",
   "execution_count": 31,
   "id": "4e0ac759-5375-461b-accc-e0bc804625de",
   "metadata": {},
   "outputs": [
    {
     "name": "stdout",
     "output_type": "stream",
     "text": [
      "{'color': 'green', 'points': 5}\n"
     ]
    }
   ],
   "source": [
    "print(alien)"
   ]
  },
  {
   "cell_type": "code",
   "execution_count": 32,
   "id": "98344957-051a-4913-8e20-bd2ac93c1bc4",
   "metadata": {},
   "outputs": [
    {
     "data": {
      "text/plain": [
       "dict"
      ]
     },
     "execution_count": 32,
     "metadata": {},
     "output_type": "execute_result"
    }
   ],
   "source": [
    "type(alien)"
   ]
  },
  {
   "cell_type": "code",
   "execution_count": 33,
   "id": "1b9c7149-e3ba-4c72-af99-e0c3b09b69ab",
   "metadata": {},
   "outputs": [],
   "source": [
    "# req : i want to add the level"
   ]
  },
  {
   "cell_type": "code",
   "execution_count": 34,
   "id": "7a6abca6-1a6d-40f5-80ff-32e44480f855",
   "metadata": {},
   "outputs": [],
   "source": [
    "alien['level'] = \"level-1\""
   ]
  },
  {
   "cell_type": "raw",
   "id": "fa56da39-a61d-42c3-9fdd-1c56a29f2236",
   "metadata": {},
   "source": [
    "print(alien)"
   ]
  },
  {
   "cell_type": "code",
   "execution_count": 35,
   "id": "2824e9ca-d8e8-4fb1-9461-b72b9e153483",
   "metadata": {},
   "outputs": [
    {
     "data": {
      "text/plain": [
       "{'color': 'green', 'points': 5, 'level': 'level-1'}"
      ]
     },
     "execution_count": 35,
     "metadata": {},
     "output_type": "execute_result"
    }
   ],
   "source": [
    "{'color': 'green', 'points' : 5, 'level': 'level-1'}"
   ]
  },
  {
   "cell_type": "code",
   "execution_count": 36,
   "id": "b2bedab0-3e27-405f-9b3d-d838adfde9ba",
   "metadata": {},
   "outputs": [],
   "source": [
    "# req : how to access the values.............?"
   ]
  },
  {
   "cell_type": "code",
   "execution_count": 38,
   "id": "29ff425f-7d29-4bf2-ad84-ecbd591d7836",
   "metadata": {},
   "outputs": [
    {
     "name": "stdout",
     "output_type": "stream",
     "text": [
      "green\n"
     ]
    }
   ],
   "source": [
    "print(alien['color'])  # give the key and get the value......?"
   ]
  },
  {
   "cell_type": "code",
   "execution_count": 39,
   "id": "d0a2f813-a72f-4d66-b1f4-63e49572bdd2",
   "metadata": {},
   "outputs": [
    {
     "name": "stdout",
     "output_type": "stream",
     "text": [
      "5\n"
     ]
    }
   ],
   "source": [
    "print(alien['points'])"
   ]
  },
  {
   "cell_type": "code",
   "execution_count": 40,
   "id": "286ca9fb-4dd4-4742-b821-d3b120224155",
   "metadata": {},
   "outputs": [],
   "source": [
    "# give the value and get the key =============?"
   ]
  },
  {
   "cell_type": "raw",
   "id": "a97fc17f-f5e9-42e2-88b4-d6befdac5986",
   "metadata": {},
   "source": [
    "print(alien['green'])"
   ]
  },
  {
   "cell_type": "code",
   "execution_count": 41,
   "id": "01f8a43f-8a88-45ca-a8be-a0370a3a8f24",
   "metadata": {},
   "outputs": [],
   "source": [
    "# req : create a useraccount"
   ]
  },
  {
   "cell_type": "code",
   "execution_count": 42,
   "id": "9d4f6f91-54cc-45b5-a1f9-a86d0ec1d898",
   "metadata": {},
   "outputs": [],
   "source": [
    "user_account = {'username':'codetraining','firstname':'code','lastname':'training','dob':'01-01-2020','pwd':'7845'}"
   ]
  },
  {
   "cell_type": "code",
   "execution_count": 43,
   "id": "f5840832-6a49-4438-bfab-ac09c5552902",
   "metadata": {},
   "outputs": [
    {
     "name": "stdout",
     "output_type": "stream",
     "text": [
      "{'username': 'codetraining', 'firstname': 'code', 'lastname': 'training', 'dob': '01-01-2020', 'pwd': '7845'}\n"
     ]
    }
   ],
   "source": [
    "print(user_account)"
   ]
  },
  {
   "cell_type": "code",
   "execution_count": null,
   "id": "4a0df5d5-d36f-45d9-9def-728b044014fc",
   "metadata": {},
   "outputs": [],
   "source": []
  }
 ],
 "metadata": {
  "kernelspec": {
   "display_name": "Python 3",
   "language": "python",
   "name": "python3"
  },
  "language_info": {
   "codemirror_mode": {
    "name": "ipython",
    "version": 3
   },
   "file_extension": ".py",
   "mimetype": "text/x-python",
   "name": "python",
   "nbconvert_exporter": "python",
   "pygments_lexer": "ipython3",
   "version": "3.11.7"
  }
 },
 "nbformat": 4,
 "nbformat_minor": 5
}
